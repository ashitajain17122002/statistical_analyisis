{
 "cells": [
  {
   "cell_type": "code",
   "execution_count": 1,
   "id": "f8abeb05-8eb6-42a0-8c66-23d92cfb3c1c",
   "metadata": {},
   "outputs": [],
   "source": [
    "import numpy as np\n",
    "import pandas as pd\n",
    "import matplotlib.pyplot as plt\n",
    "import seaborn as sns"
   ]
  },
  {
   "cell_type": "markdown",
   "id": "3cf36b3e-31b3-4952-bde0-e2811b25b1f3",
   "metadata": {},
   "source": [
    "# To calculate mean of the data"
   ]
  },
  {
   "cell_type": "code",
   "execution_count": 2,
   "id": "566407fc-b5d5-4253-bc81-4979383cf440",
   "metadata": {},
   "outputs": [],
   "source": [
    "ar = np.array([1,2,3,4,5,6,7,8,9])"
   ]
  },
  {
   "cell_type": "code",
   "execution_count": 3,
   "id": "caadd676-a2a8-414b-8f9a-e0ec5c4b5ed0",
   "metadata": {},
   "outputs": [
    {
     "name": "stdout",
     "output_type": "stream",
     "text": [
      "5.0\n"
     ]
    },
    {
     "data": {
      "text/plain": [
       "np.float64(5.0)"
      ]
     },
     "execution_count": 3,
     "metadata": {},
     "output_type": "execute_result"
    }
   ],
   "source": [
    "print(np.sum(ar)/len(ar))\n",
    "np.mean(ar)"
   ]
  },
  {
   "cell_type": "markdown",
   "id": "d2d30843-58ee-4b5d-94fd-c576fdf49666",
   "metadata": {},
   "source": [
    "# Importing Data Set"
   ]
  },
  {
   "cell_type": "code",
   "execution_count": 4,
   "id": "088a37fc-d7dd-4fdd-9629-cac5fccb1c03",
   "metadata": {},
   "outputs": [],
   "source": [
    "dataset = pd.read_csv(\"Titanic.csv\")"
   ]
  },
  {
   "cell_type": "code",
   "execution_count": 5,
   "id": "988aa823-2c39-4be6-8528-8ec4585d7ce8",
   "metadata": {},
   "outputs": [
    {
     "data": {
      "text/html": [
       "<div>\n",
       "<style scoped>\n",
       "    .dataframe tbody tr th:only-of-type {\n",
       "        vertical-align: middle;\n",
       "    }\n",
       "\n",
       "    .dataframe tbody tr th {\n",
       "        vertical-align: top;\n",
       "    }\n",
       "\n",
       "    .dataframe thead th {\n",
       "        text-align: right;\n",
       "    }\n",
       "</style>\n",
       "<table border=\"1\" class=\"dataframe\">\n",
       "  <thead>\n",
       "    <tr style=\"text-align: right;\">\n",
       "      <th></th>\n",
       "      <th>PassengerId</th>\n",
       "      <th>Survived</th>\n",
       "      <th>Pclass</th>\n",
       "      <th>Name</th>\n",
       "      <th>Sex</th>\n",
       "      <th>Age</th>\n",
       "      <th>SibSp</th>\n",
       "      <th>Parch</th>\n",
       "      <th>Ticket</th>\n",
       "      <th>Fare</th>\n",
       "      <th>Cabin</th>\n",
       "      <th>Embarked</th>\n",
       "      <th>class</th>\n",
       "      <th>who</th>\n",
       "      <th>alone</th>\n",
       "    </tr>\n",
       "  </thead>\n",
       "  <tbody>\n",
       "    <tr>\n",
       "      <th>0</th>\n",
       "      <td>1</td>\n",
       "      <td>0</td>\n",
       "      <td>3</td>\n",
       "      <td>Braund, Mr. Owen Harris</td>\n",
       "      <td>male</td>\n",
       "      <td>22.0</td>\n",
       "      <td>1</td>\n",
       "      <td>0</td>\n",
       "      <td>A/5 21171</td>\n",
       "      <td>7.2500</td>\n",
       "      <td>NaN</td>\n",
       "      <td>S</td>\n",
       "      <td>Third</td>\n",
       "      <td>man</td>\n",
       "      <td>False</td>\n",
       "    </tr>\n",
       "    <tr>\n",
       "      <th>1</th>\n",
       "      <td>2</td>\n",
       "      <td>1</td>\n",
       "      <td>1</td>\n",
       "      <td>Cumings, Mrs. John Bradley (Florence Briggs Th...</td>\n",
       "      <td>female</td>\n",
       "      <td>38.0</td>\n",
       "      <td>1</td>\n",
       "      <td>0</td>\n",
       "      <td>PC 17599</td>\n",
       "      <td>71.2833</td>\n",
       "      <td>C85</td>\n",
       "      <td>C</td>\n",
       "      <td>First</td>\n",
       "      <td>woman</td>\n",
       "      <td>False</td>\n",
       "    </tr>\n",
       "    <tr>\n",
       "      <th>2</th>\n",
       "      <td>3</td>\n",
       "      <td>1</td>\n",
       "      <td>3</td>\n",
       "      <td>Heikkinen, Miss. Laina</td>\n",
       "      <td>female</td>\n",
       "      <td>26.0</td>\n",
       "      <td>0</td>\n",
       "      <td>0</td>\n",
       "      <td>STON/O2. 3101282</td>\n",
       "      <td>7.9250</td>\n",
       "      <td>NaN</td>\n",
       "      <td>S</td>\n",
       "      <td>Third</td>\n",
       "      <td>woman</td>\n",
       "      <td>True</td>\n",
       "    </tr>\n",
       "  </tbody>\n",
       "</table>\n",
       "</div>"
      ],
      "text/plain": [
       "   PassengerId  Survived  Pclass  \\\n",
       "0            1         0       3   \n",
       "1            2         1       1   \n",
       "2            3         1       3   \n",
       "\n",
       "                                                Name     Sex   Age  SibSp  \\\n",
       "0                            Braund, Mr. Owen Harris    male  22.0      1   \n",
       "1  Cumings, Mrs. John Bradley (Florence Briggs Th...  female  38.0      1   \n",
       "2                             Heikkinen, Miss. Laina  female  26.0      0   \n",
       "\n",
       "   Parch            Ticket     Fare Cabin Embarked  class    who  alone  \n",
       "0      0         A/5 21171   7.2500   NaN        S  Third    man  False  \n",
       "1      0          PC 17599  71.2833   C85        C  First  woman  False  \n",
       "2      0  STON/O2. 3101282   7.9250   NaN        S  Third  woman   True  "
      ]
     },
     "execution_count": 5,
     "metadata": {},
     "output_type": "execute_result"
    }
   ],
   "source": [
    "dataset.head(3)"
   ]
  },
  {
   "cell_type": "markdown",
   "id": "0a1433b9-2402-4680-b06f-8556a4e1679f",
   "metadata": {},
   "source": [
    "# Measure of Central Tendancy"
   ]
  },
  {
   "cell_type": "markdown",
   "id": "fa722e26-9fa7-4c1f-955c-be1e44c31114",
   "metadata": {},
   "source": [
    "## Calculating mean of age"
   ]
  },
  {
   "cell_type": "code",
   "execution_count": 6,
   "id": "fc938b87-a3d3-42ed-898e-e44122ef3d3a",
   "metadata": {},
   "outputs": [
    {
     "name": "stdout",
     "output_type": "stream",
     "text": [
      "29.69911764705882\n"
     ]
    }
   ],
   "source": [
    "print(dataset[\"Age\"].mean())"
   ]
  },
  {
   "cell_type": "code",
   "execution_count": 7,
   "id": "78a56615-7be3-4267-b520-6117512d3a76",
   "metadata": {},
   "outputs": [
    {
     "name": "stdout",
     "output_type": "stream",
     "text": [
      "29.69911764705882\n"
     ]
    }
   ],
   "source": [
    "mean = np.mean(dataset[\"Age\"])\n",
    "print(mean)"
   ]
  },
  {
   "cell_type": "markdown",
   "id": "8ff20281-98a6-4700-8c0d-5cb5a9351bf4",
   "metadata": {},
   "source": [
    "## Finding Median of Age "
   ]
  },
  {
   "cell_type": "markdown",
   "id": "eaefa7ea-b517-467f-9f9d-8c5816b10d28",
   "metadata": {},
   "source": [
    "#### Before removing NULL values"
   ]
  },
  {
   "cell_type": "code",
   "execution_count": 8,
   "id": "30d65099-05ae-4cd9-826b-a18500a82f85",
   "metadata": {},
   "outputs": [
    {
     "data": {
      "text/plain": [
       "np.float64(nan)"
      ]
     },
     "execution_count": 8,
     "metadata": {},
     "output_type": "execute_result"
    }
   ],
   "source": [
    "np.median(dataset[\"Age\"])"
   ]
  },
  {
   "cell_type": "markdown",
   "id": "0d627e16-5430-41e2-a736-7ed94a10173d",
   "metadata": {},
   "source": [
    "#### To Find NULL values"
   ]
  },
  {
   "cell_type": "code",
   "execution_count": 9,
   "id": "2a055080-81b0-4668-b07b-e69ff52543dd",
   "metadata": {},
   "outputs": [
    {
     "data": {
      "text/plain": [
       "PassengerId      0\n",
       "Survived         0\n",
       "Pclass           0\n",
       "Name             0\n",
       "Sex              0\n",
       "Age            177\n",
       "SibSp            0\n",
       "Parch            0\n",
       "Ticket           0\n",
       "Fare             0\n",
       "Cabin          687\n",
       "Embarked         2\n",
       "class            0\n",
       "who              0\n",
       "alone            0\n",
       "dtype: int64"
      ]
     },
     "execution_count": 9,
     "metadata": {},
     "output_type": "execute_result"
    }
   ],
   "source": [
    "dataset.isnull().sum()"
   ]
  },
  {
   "cell_type": "markdown",
   "id": "d89f3a63-9a03-4ebd-bc09-0fbd89c1a2f5",
   "metadata": {},
   "source": [
    "#### Removing NULL values by filling with mean values "
   ]
  },
  {
   "cell_type": "code",
   "execution_count": 10,
   "id": "d61e9aaf-9298-4b8b-a538-3bc7322e3829",
   "metadata": {},
   "outputs": [],
   "source": [
    "dataset[\"Age\"] = dataset[\"Age\"].fillna(mean)"
   ]
  },
  {
   "cell_type": "markdown",
   "id": "332fe0c7-0dbe-4b44-91f6-b5ccd5e073b5",
   "metadata": {},
   "source": [
    "#### After removing NULL values"
   ]
  },
  {
   "cell_type": "code",
   "execution_count": 11,
   "id": "c1872bdd-e734-47b9-87b9-44fe743dfe22",
   "metadata": {},
   "outputs": [
    {
     "name": "stdout",
     "output_type": "stream",
     "text": [
      "29.69911764705882\n"
     ]
    }
   ],
   "source": [
    "median  = dataset[\"Age\"].median()\n",
    "print(median)"
   ]
  },
  {
   "cell_type": "markdown",
   "id": "13196555-0046-4d95-b7c7-123c1d54cc17",
   "metadata": {},
   "source": [
    "### Ploting Histogram Graph with mean"
   ]
  },
  {
   "cell_type": "code",
   "execution_count": 12,
   "id": "25a36650-9658-4ae8-bc0b-f16d2375d0f9",
   "metadata": {},
   "outputs": [
    {
     "data": {
      "image/png": "[encoded data removed]",
      "text/plain": [
       "<Figure size 640x480 with 1 Axes>"
      ]
     },
     "metadata": {},
     "output_type": "display_data"
    }
   ],
   "source": [
    "sns.histplot(x = \"Age\", data = dataset, bins = [i for i in range(0,90, 10)] )\n",
    "plt.plot([mean for i in range(0,500)],[i for i in range(0,500)], c = \"red\", label = \"Mean\")  #for ploting vertical red line by putting constant value in X axis\n",
    "plt.legend()\n",
    "plt.show()"
   ]
  },
  {
   "cell_type": "code",
   "execution_count": 13,
   "id": "cbf3154d-140d-4277-a853-cc9602f7554c",
   "metadata": {},
   "outputs": [
    {
     "data": {
      "text/html": [
       "<div>\n",
       "<style scoped>\n",
       "    .dataframe tbody tr th:only-of-type {\n",
       "        vertical-align: middle;\n",
       "    }\n",
       "\n",
       "    .dataframe tbody tr th {\n",
       "        vertical-align: top;\n",
       "    }\n",
       "\n",
       "    .dataframe thead th {\n",
       "        text-align: right;\n",
       "    }\n",
       "</style>\n",
       "<table border=\"1\" class=\"dataframe\">\n",
       "  <thead>\n",
       "    <tr style=\"text-align: right;\">\n",
       "      <th></th>\n",
       "      <th>PassengerId</th>\n",
       "      <th>Survived</th>\n",
       "      <th>Pclass</th>\n",
       "      <th>Name</th>\n",
       "      <th>Sex</th>\n",
       "      <th>Age</th>\n",
       "      <th>SibSp</th>\n",
       "      <th>Parch</th>\n",
       "      <th>Ticket</th>\n",
       "      <th>Fare</th>\n",
       "      <th>Cabin</th>\n",
       "      <th>Embarked</th>\n",
       "      <th>class</th>\n",
       "      <th>who</th>\n",
       "      <th>alone</th>\n",
       "    </tr>\n",
       "  </thead>\n",
       "  <tbody>\n",
       "    <tr>\n",
       "      <th>0</th>\n",
       "      <td>1</td>\n",
       "      <td>0</td>\n",
       "      <td>3</td>\n",
       "      <td>Braund, Mr. Owen Harris</td>\n",
       "      <td>male</td>\n",
       "      <td>22.0</td>\n",
       "      <td>1</td>\n",
       "      <td>0</td>\n",
       "      <td>A/5 21171</td>\n",
       "      <td>7.2500</td>\n",
       "      <td>NaN</td>\n",
       "      <td>S</td>\n",
       "      <td>Third</td>\n",
       "      <td>man</td>\n",
       "      <td>False</td>\n",
       "    </tr>\n",
       "    <tr>\n",
       "      <th>1</th>\n",
       "      <td>2</td>\n",
       "      <td>1</td>\n",
       "      <td>1</td>\n",
       "      <td>Cumings, Mrs. John Bradley (Florence Briggs Th...</td>\n",
       "      <td>female</td>\n",
       "      <td>38.0</td>\n",
       "      <td>1</td>\n",
       "      <td>0</td>\n",
       "      <td>PC 17599</td>\n",
       "      <td>71.2833</td>\n",
       "      <td>C85</td>\n",
       "      <td>C</td>\n",
       "      <td>First</td>\n",
       "      <td>woman</td>\n",
       "      <td>False</td>\n",
       "    </tr>\n",
       "    <tr>\n",
       "      <th>2</th>\n",
       "      <td>3</td>\n",
       "      <td>1</td>\n",
       "      <td>3</td>\n",
       "      <td>Heikkinen, Miss. Laina</td>\n",
       "      <td>female</td>\n",
       "      <td>26.0</td>\n",
       "      <td>0</td>\n",
       "      <td>0</td>\n",
       "      <td>STON/O2. 3101282</td>\n",
       "      <td>7.9250</td>\n",
       "      <td>NaN</td>\n",
       "      <td>S</td>\n",
       "      <td>Third</td>\n",
       "      <td>woman</td>\n",
       "      <td>True</td>\n",
       "    </tr>\n",
       "    <tr>\n",
       "      <th>3</th>\n",
       "      <td>4</td>\n",
       "      <td>1</td>\n",
       "      <td>1</td>\n",
       "      <td>Futrelle, Mrs. Jacques Heath (Lily May Peel)</td>\n",
       "      <td>female</td>\n",
       "      <td>35.0</td>\n",
       "      <td>1</td>\n",
       "      <td>0</td>\n",
       "      <td>113803</td>\n",
       "      <td>53.1000</td>\n",
       "      <td>C123</td>\n",
       "      <td>S</td>\n",
       "      <td>First</td>\n",
       "      <td>woman</td>\n",
       "      <td>False</td>\n",
       "    </tr>\n",
       "    <tr>\n",
       "      <th>4</th>\n",
       "      <td>5</td>\n",
       "      <td>0</td>\n",
       "      <td>3</td>\n",
       "      <td>Allen, Mr. William Henry</td>\n",
       "      <td>male</td>\n",
       "      <td>35.0</td>\n",
       "      <td>0</td>\n",
       "      <td>0</td>\n",
       "      <td>373450</td>\n",
       "      <td>8.0500</td>\n",
       "      <td>NaN</td>\n",
       "      <td>S</td>\n",
       "      <td>Third</td>\n",
       "      <td>man</td>\n",
       "      <td>True</td>\n",
       "    </tr>\n",
       "  </tbody>\n",
       "</table>\n",
       "</div>"
      ],
      "text/plain": [
       "   PassengerId  Survived  Pclass  \\\n",
       "0            1         0       3   \n",
       "1            2         1       1   \n",
       "2            3         1       3   \n",
       "3            4         1       1   \n",
       "4            5         0       3   \n",
       "\n",
       "                                                Name     Sex   Age  SibSp  \\\n",
       "0                            Braund, Mr. Owen Harris    male  22.0      1   \n",
       "1  Cumings, Mrs. John Bradley (Florence Briggs Th...  female  38.0      1   \n",
       "2                             Heikkinen, Miss. Laina  female  26.0      0   \n",
       "3       Futrelle, Mrs. Jacques Heath (Lily May Peel)  female  35.0      1   \n",
       "4                           Allen, Mr. William Henry    male  35.0      0   \n",
       "\n",
       "   Parch            Ticket     Fare Cabin Embarked  class    who  alone  \n",
       "0      0         A/5 21171   7.2500   NaN        S  Third    man  False  \n",
       "1      0          PC 17599  71.2833   C85        C  First  woman  False  \n",
       "2      0  STON/O2. 3101282   7.9250   NaN        S  Third  woman   True  \n",
       "3      0            113803  53.1000  C123        S  First  woman  False  \n",
       "4      0            373450   8.0500   NaN        S  Third    man   True  "
      ]
     },
     "execution_count": 13,
     "metadata": {},
     "output_type": "execute_result"
    }
   ],
   "source": [
    "dataset.head(5)"
   ]
  },
  {
   "cell_type": "markdown",
   "id": "c72999de-4c59-4ff1-9963-2ac5457031e0",
   "metadata": {},
   "source": [
    "## Mode \n"
   ]
  },
  {
   "cell_type": "code",
   "execution_count": 14,
   "id": "34a8de73-6262-4321-bb7b-07d9a25e099d",
   "metadata": {},
   "outputs": [
    {
     "data": {
      "text/plain": [
       "pandas.core.series.Series"
      ]
     },
     "execution_count": 14,
     "metadata": {},
     "output_type": "execute_result"
    }
   ],
   "source": [
    "type(dataset[\"Fare\"].mode())"
   ]
  },
  {
   "cell_type": "code",
   "execution_count": 15,
   "id": "7aa9d0a4-6c48-4df6-9d61-5152bc297b69",
   "metadata": {},
   "outputs": [
    {
     "data": {
      "text/plain": [
       "0    8.05\n",
       "Name: Fare, dtype: float64"
      ]
     },
     "execution_count": 15,
     "metadata": {},
     "output_type": "execute_result"
    }
   ],
   "source": [
    "dataset[\"Fare\"].mode()  # it returns the series"
   ]
  },
  {
   "cell_type": "code",
   "execution_count": 16,
   "id": "0872c0ef-4403-4c97-a5ca-17e29bc0b2a1",
   "metadata": {},
   "outputs": [
    {
     "name": "stdout",
     "output_type": "stream",
     "text": [
      "8.05\n"
     ]
    }
   ],
   "source": [
    "mode = dataset[\"Fare\"].mode()[0]  # we give index no. so that we can access only value not series data\n",
    "print(mode)"
   ]
  },
  {
   "cell_type": "code",
   "execution_count": 17,
   "id": "cfc6e62a-81ea-4102-a3d4-c66fa24eb119",
   "metadata": {},
   "outputs": [
    {
     "data": {
      "text/plain": [
       "Fare\n",
       "8.0500     43\n",
       "13.0000    42\n",
       "7.8958     38\n",
       "7.7500     34\n",
       "26.0000    31\n",
       "           ..\n",
       "13.8583     1\n",
       "50.4958     1\n",
       "5.0000      1\n",
       "9.8458      1\n",
       "10.5167     1\n",
       "Name: count, Length: 248, dtype: int64"
      ]
     },
     "execution_count": 17,
     "metadata": {},
     "output_type": "execute_result"
    }
   ],
   "source": [
    "dataset[\"Fare\"].value_counts()"
   ]
  },
  {
   "cell_type": "markdown",
   "id": "d59e5e79-9413-4002-8666-e4224dd7289f",
   "metadata": {},
   "source": [
    "### Lets Plot the graph of Fare with its Mean, median and mode value"
   ]
  },
  {
   "cell_type": "code",
   "execution_count": 18,
   "id": "03b2d980-db36-4def-adaf-46b838d65af7",
   "metadata": {},
   "outputs": [
    {
     "name": "stdout",
     "output_type": "stream",
     "text": [
      "Mean:  32.204207968574636\n",
      "Median:  14.4542\n",
      "Mode:  8.05\n"
     ]
    },
    {
     "data": {
      "image/png": "[encoded data removed]",
      "text/plain": [
       "<Figure size 640x480 with 1 Axes>"
      ]
     },
     "metadata": {},
     "output_type": "display_data"
    }
   ],
   "source": [
    "fare_mean  = dataset[\"Fare\"].mean()\n",
    "print(\"Mean: \",fare_mean)\n",
    "fare_median = dataset[\"Fare\"].median()\n",
    "print(\"Median: \",fare_median)\n",
    "mode = dataset[\"Fare\"].mode()[0]  # we give index no. so that we can access only value not series data\n",
    "print(\"Mode: \",mode)\n",
    "\n",
    "sns.histplot(x = \"Fare\", data = dataset, bins = [i for i in range(0,100, 10)] )\n",
    "plt.plot([fare_mean for i in range(0,400)], [i for i in range(0,400)],c = \"red\", label = \"Mean\")\n",
    "plt.plot([fare_median for i in range(0,400)], [i for i in range(0,400)],c = \"blue\" , label = \"Median\")\n",
    "plt.plot([mode for i in range(0,400)], [i for i in range(0,400)],c = \"green\" , label = \"Mode\")\n",
    "# plt.text(fare_mean, 380, f'{fare_mean:.2f}', color = 'red', ha='left')\n",
    "# plt.text(fare_median, 380, f'{fare_median:.2f}', color = 'blue', ha='left')\n",
    "plt.legend()    #to show label that we created\n",
    "plt.show()"
   ]
  },
  {
   "cell_type": "markdown",
   "id": "1a3d80f6-11f4-4897-bfbb-be9a29f4b731",
   "metadata": {},
   "source": [
    "\n",
    "# Measures of Variability\n",
    "\n"
   ]
  },
  {
   "cell_type": "code",
   "execution_count": 19,
   "id": "446136fd-16ee-422f-963f-fe0636d97ea0",
   "metadata": {},
   "outputs": [
    {
     "data": {
      "text/html": [
       "<div>\n",
       "<style scoped>\n",
       "    .dataframe tbody tr th:only-of-type {\n",
       "        vertical-align: middle;\n",
       "    }\n",
       "\n",
       "    .dataframe tbody tr th {\n",
       "        vertical-align: top;\n",
       "    }\n",
       "\n",
       "    .dataframe thead th {\n",
       "        text-align: right;\n",
       "    }\n",
       "</style>\n",
       "<table border=\"1\" class=\"dataframe\">\n",
       "  <thead>\n",
       "    <tr style=\"text-align: right;\">\n",
       "      <th></th>\n",
       "      <th>PassengerId</th>\n",
       "      <th>Survived</th>\n",
       "      <th>Pclass</th>\n",
       "      <th>Name</th>\n",
       "      <th>Sex</th>\n",
       "      <th>Age</th>\n",
       "      <th>SibSp</th>\n",
       "      <th>Parch</th>\n",
       "      <th>Ticket</th>\n",
       "      <th>Fare</th>\n",
       "      <th>Cabin</th>\n",
       "      <th>Embarked</th>\n",
       "      <th>class</th>\n",
       "      <th>who</th>\n",
       "      <th>alone</th>\n",
       "    </tr>\n",
       "  </thead>\n",
       "  <tbody>\n",
       "    <tr>\n",
       "      <th>0</th>\n",
       "      <td>1</td>\n",
       "      <td>0</td>\n",
       "      <td>3</td>\n",
       "      <td>Braund, Mr. Owen Harris</td>\n",
       "      <td>male</td>\n",
       "      <td>22.0</td>\n",
       "      <td>1</td>\n",
       "      <td>0</td>\n",
       "      <td>A/5 21171</td>\n",
       "      <td>7.2500</td>\n",
       "      <td>NaN</td>\n",
       "      <td>S</td>\n",
       "      <td>Third</td>\n",
       "      <td>man</td>\n",
       "      <td>False</td>\n",
       "    </tr>\n",
       "    <tr>\n",
       "      <th>1</th>\n",
       "      <td>2</td>\n",
       "      <td>1</td>\n",
       "      <td>1</td>\n",
       "      <td>Cumings, Mrs. John Bradley (Florence Briggs Th...</td>\n",
       "      <td>female</td>\n",
       "      <td>38.0</td>\n",
       "      <td>1</td>\n",
       "      <td>0</td>\n",
       "      <td>PC 17599</td>\n",
       "      <td>71.2833</td>\n",
       "      <td>C85</td>\n",
       "      <td>C</td>\n",
       "      <td>First</td>\n",
       "      <td>woman</td>\n",
       "      <td>False</td>\n",
       "    </tr>\n",
       "    <tr>\n",
       "      <th>2</th>\n",
       "      <td>3</td>\n",
       "      <td>1</td>\n",
       "      <td>3</td>\n",
       "      <td>Heikkinen, Miss. Laina</td>\n",
       "      <td>female</td>\n",
       "      <td>26.0</td>\n",
       "      <td>0</td>\n",
       "      <td>0</td>\n",
       "      <td>STON/O2. 3101282</td>\n",
       "      <td>7.9250</td>\n",
       "      <td>NaN</td>\n",
       "      <td>S</td>\n",
       "      <td>Third</td>\n",
       "      <td>woman</td>\n",
       "      <td>True</td>\n",
       "    </tr>\n",
       "    <tr>\n",
       "      <th>3</th>\n",
       "      <td>4</td>\n",
       "      <td>1</td>\n",
       "      <td>1</td>\n",
       "      <td>Futrelle, Mrs. Jacques Heath (Lily May Peel)</td>\n",
       "      <td>female</td>\n",
       "      <td>35.0</td>\n",
       "      <td>1</td>\n",
       "      <td>0</td>\n",
       "      <td>113803</td>\n",
       "      <td>53.1000</td>\n",
       "      <td>C123</td>\n",
       "      <td>S</td>\n",
       "      <td>First</td>\n",
       "      <td>woman</td>\n",
       "      <td>False</td>\n",
       "    </tr>\n",
       "    <tr>\n",
       "      <th>4</th>\n",
       "      <td>5</td>\n",
       "      <td>0</td>\n",
       "      <td>3</td>\n",
       "      <td>Allen, Mr. William Henry</td>\n",
       "      <td>male</td>\n",
       "      <td>35.0</td>\n",
       "      <td>0</td>\n",
       "      <td>0</td>\n",
       "      <td>373450</td>\n",
       "      <td>8.0500</td>\n",
       "      <td>NaN</td>\n",
       "      <td>S</td>\n",
       "      <td>Third</td>\n",
       "      <td>man</td>\n",
       "      <td>True</td>\n",
       "    </tr>\n",
       "  </tbody>\n",
       "</table>\n",
       "</div>"
      ],
      "text/plain": [
       "   PassengerId  Survived  Pclass  \\\n",
       "0            1         0       3   \n",
       "1            2         1       1   \n",
       "2            3         1       3   \n",
       "3            4         1       1   \n",
       "4            5         0       3   \n",
       "\n",
       "                                                Name     Sex   Age  SibSp  \\\n",
       "0                            Braund, Mr. Owen Harris    male  22.0      1   \n",
       "1  Cumings, Mrs. John Bradley (Florence Briggs Th...  female  38.0      1   \n",
       "2                             Heikkinen, Miss. Laina  female  26.0      0   \n",
       "3       Futrelle, Mrs. Jacques Heath (Lily May Peel)  female  35.0      1   \n",
       "4                           Allen, Mr. William Henry    male  35.0      0   \n",
       "\n",
       "   Parch            Ticket     Fare Cabin Embarked  class    who  alone  \n",
       "0      0         A/5 21171   7.2500   NaN        S  Third    man  False  \n",
       "1      0          PC 17599  71.2833   C85        C  First  woman  False  \n",
       "2      0  STON/O2. 3101282   7.9250   NaN        S  Third  woman   True  \n",
       "3      0            113803  53.1000  C123        S  First  woman  False  \n",
       "4      0            373450   8.0500   NaN        S  Third    man   True  "
      ]
     },
     "execution_count": 19,
     "metadata": {},
     "output_type": "execute_result"
    }
   ],
   "source": [
    "dataset.head(5)"
   ]
  },
  {
   "cell_type": "markdown",
   "id": "1bf44456-369f-415f-8773-30edd4b1e084",
   "metadata": {},
   "source": [
    "##  -- Calculating Range\n"
   ]
  },
  {
   "cell_type": "code",
   "execution_count": 20,
   "id": "290e1ec9-2e04-48f6-8e32-21a3d895d0c3",
   "metadata": {},
   "outputs": [
    {
     "name": "stdout",
     "output_type": "stream",
     "text": [
      "79.58\n"
     ]
    }
   ],
   "source": [
    "min_r = dataset[\"Age\"].min()\n",
    "max_r = dataset[\"Age\"].max()\n",
    "range_ = max_r - min_r\n",
    "print(range_)"
   ]
  },
  {
   "cell_type": "markdown",
   "id": "30abda9e-7bfa-44b9-819e-f82af71ee5b3",
   "metadata": {},
   "source": [
    "## -- Mean Absolute Deviation (MAD)\n",
    "MAD show the distance between datapoint and mean of the dataset. <br>\n",
    "dataset that have less distance betweent their datapoints and mean is good in performance"
   ]
  },
  {
   "cell_type": "code",
   "execution_count": 21,
   "id": "5871cff0-709e-4168-bd32-850a612a26f2",
   "metadata": {},
   "outputs": [],
   "source": [
    "sec_A = np.array([75,65,73,68,72,76])\n",
    "sec_B = np.array([90,47,43,96,93,51]) \n",
    "array = np.array([1,2,3,4,5,6])"
   ]
  },
  {
   "cell_type": "code",
   "execution_count": 22,
   "id": "cf02c844-ab56-4ad9-a34f-c1cefac2cc0f",
   "metadata": {},
   "outputs": [
    {
     "name": "stdout",
     "output_type": "stream",
     "text": [
      "70.0\n"
     ]
    }
   ],
   "source": [
    "mean = np.mean(sec_B)\n",
    "print((mean))"
   ]
  },
  {
   "cell_type": "markdown",
   "id": "a9cb4473-76c1-46f9-8db6-abb292fb74ce",
   "metadata": {},
   "source": [
    "## Scatter Plot graph\n"
   ]
  },
  {
   "cell_type": "code",
   "execution_count": 23,
   "id": "54520972-41fc-4918-a876-0c09a15f06b3",
   "metadata": {},
   "outputs": [
    {
     "data": {
      "image/png": "[encoded data removed]",
      "text/plain": [
       "<Figure size 1000x400 with 1 Axes>"
      ]
     },
     "metadata": {},
     "output_type": "display_data"
    }
   ],
   "source": [
    "plt.figure(figsize=(10,4))\n",
    "plt.scatter(sec_A,array, label = \"sec_A\")\n",
    "plt.scatter(sec_B,array, label = \"sec_B\")\n",
    "# plt.plot([mean for i in range(1,7)], array) #this showing error bcoz float value is not callable\n",
    "plt.plot([70,70,70,70,70,70], array , label = \"Mean\") # here 70 is average\n",
    "plt.legend()\n",
    "plt.show()"
   ]
  },
  {
   "cell_type": "markdown",
   "id": "ff2c22a7-f320-4825-9135-0b5594cdf71d",
   "metadata": {},
   "source": [
    "<b>In above graph, All datapoints of sec_A is more closer to mean than datapoints of sec_B, so we choose sec_A because it perform better than sec_B</b>"
   ]
  },
  {
   "cell_type": "markdown",
   "id": "c902246f-df0e-43da-ad62-18373a087c45",
   "metadata": {},
   "source": [
    "## -- Calculating MAD  "
   ]
  },
  {
   "cell_type": "code",
   "execution_count": 24,
   "id": "393d4d74-c698-43eb-9bbd-258e55ae5470",
   "metadata": {},
   "outputs": [
    {
     "data": {
      "text/plain": [
       "np.int64(2)"
      ]
     },
     "execution_count": 24,
     "metadata": {},
     "output_type": "execute_result"
    }
   ],
   "source": [
    "np.abs(-2)  # abs refer to absolute value which return positive value generally refers to modulus...|-2|=2"
   ]
  },
  {
   "cell_type": "code",
   "execution_count": 25,
   "id": "4acd8ebe-f49c-4f1c-86ba-1e2b40b6e734",
   "metadata": {},
   "outputs": [
    {
     "data": {
      "text/plain": [
       "array([ 5., -5.,  3., -2.,  2.,  6.])"
      ]
     },
     "execution_count": 25,
     "metadata": {},
     "output_type": "execute_result"
    }
   ],
   "source": [
    "sec_A-mean"
   ]
  },
  {
   "cell_type": "code",
   "execution_count": 26,
   "id": "36acce10-3a02-4622-bb9a-43dac7be953e",
   "metadata": {},
   "outputs": [
    {
     "data": {
      "text/plain": [
       "array([5., 5., 3., 2., 2., 6.])"
      ]
     },
     "execution_count": 26,
     "metadata": {},
     "output_type": "execute_result"
    }
   ],
   "source": [
    "np.abs(sec_A-mean)"
   ]
  },
  {
   "cell_type": "code",
   "execution_count": 27,
   "id": "18b8dab3-6b5b-4e4d-9530-bd98fca878ff",
   "metadata": {},
   "outputs": [
    {
     "data": {
      "text/plain": [
       "np.float64(23.0)"
      ]
     },
     "execution_count": 27,
     "metadata": {},
     "output_type": "execute_result"
    }
   ],
   "source": [
    "np.sum(np.abs(sec_A-mean))"
   ]
  },
  {
   "cell_type": "code",
   "execution_count": 28,
   "id": "25301e2e-348a-4667-ab26-1842f8070aa4",
   "metadata": {},
   "outputs": [
    {
     "name": "stdout",
     "output_type": "stream",
     "text": [
      "3.8333333333333335\n",
      "23.0\n"
     ]
    }
   ],
   "source": [
    "# mean absolute deviation of sec_A\n",
    "MAD_A = np.sum(np.abs(sec_A-mean))/len(sec_A)\n",
    "print(MAD_A)\n",
    "\n",
    "# mean absolute deviation of sec_B\n",
    "MAD_B = np.sum(np.abs(sec_B-mean))/len(sec_B)\n",
    "print(MAD_B)"
   ]
  },
  {
   "cell_type": "markdown",
   "id": "7c0a8613-491b-4fdf-bec3-da9c9784fd8c",
   "metadata": {},
   "source": [
    "<b> Less MAD is consider that values tends to be closer to mean of the set while high MAD indicates that the value are spread out over a wider range ...<br>\n",
    "since mean absolute deviation of sec_B is more than sec_A...so we choose data from sec_A"
   ]
  },
  {
   "cell_type": "markdown",
   "id": "030effac-0618-485c-861b-09781e814fc6",
   "metadata": {},
   "source": [
    "## -- Standard Deviation  and Variance\n"
   ]
  },
  {
   "cell_type": "markdown",
   "id": "0614b729-45be-4978-887a-05486857b958",
   "metadata": {},
   "source": [
    "Dataset that have low SD and Variance is considered to be good"
   ]
  },
  {
   "cell_type": "code",
   "execution_count": 29,
   "id": "9d676246-03b7-40fd-acaa-404e49345071",
   "metadata": {},
   "outputs": [
    {
     "name": "stdout",
     "output_type": "stream",
     "text": [
      "3.8622100754188224   23.18045153428495\n"
     ]
    }
   ],
   "source": [
    "# Standard deviation of dataset sec_A and sec_B\n",
    "STD_A = np.std(sec_A)\n",
    "STD_B = np.std(sec_B)\n",
    "print(STD_A,\" \", STD_B)"
   ]
  },
  {
   "cell_type": "code",
   "execution_count": 30,
   "id": "9b00f708-4c4c-410d-948e-5f7a85d6f46d",
   "metadata": {},
   "outputs": [
    {
     "name": "stdout",
     "output_type": "stream",
     "text": [
      "14.916666666666666   537.3333333333334\n"
     ]
    }
   ],
   "source": [
    "# Variance of dataset sec_A and sec_B\n",
    "Var_A = np.var(sec_A)\n",
    "Var_B = np.var(sec_B)\n",
    "print(Var_A,\" \", Var_B)"
   ]
  },
  {
   "cell_type": "markdown",
   "id": "129e5a8f-4f90-46e7-80b0-971fa7c1f31b",
   "metadata": {},
   "source": [
    "<b>Std and variance of dataset sec_A is less than sec_B  so we prefer sec_A.."
   ]
  },
  {
   "cell_type": "code",
   "execution_count": 31,
   "id": "38f44c3f-47fd-4dbd-9917-c6b04c83e6ac",
   "metadata": {},
   "outputs": [
    {
     "data": {
      "text/html": [
       "<div>\n",
       "<style scoped>\n",
       "    .dataframe tbody tr th:only-of-type {\n",
       "        vertical-align: middle;\n",
       "    }\n",
       "\n",
       "    .dataframe tbody tr th {\n",
       "        vertical-align: top;\n",
       "    }\n",
       "\n",
       "    .dataframe thead th {\n",
       "        text-align: right;\n",
       "    }\n",
       "</style>\n",
       "<table border=\"1\" class=\"dataframe\">\n",
       "  <thead>\n",
       "    <tr style=\"text-align: right;\">\n",
       "      <th></th>\n",
       "      <th>PassengerId</th>\n",
       "      <th>Survived</th>\n",
       "      <th>Pclass</th>\n",
       "      <th>Name</th>\n",
       "      <th>Sex</th>\n",
       "      <th>Age</th>\n",
       "      <th>SibSp</th>\n",
       "      <th>Parch</th>\n",
       "      <th>Ticket</th>\n",
       "      <th>Fare</th>\n",
       "      <th>Cabin</th>\n",
       "      <th>Embarked</th>\n",
       "      <th>class</th>\n",
       "      <th>who</th>\n",
       "      <th>alone</th>\n",
       "    </tr>\n",
       "  </thead>\n",
       "  <tbody>\n",
       "    <tr>\n",
       "      <th>0</th>\n",
       "      <td>1</td>\n",
       "      <td>0</td>\n",
       "      <td>3</td>\n",
       "      <td>Braund, Mr. Owen Harris</td>\n",
       "      <td>male</td>\n",
       "      <td>22.0</td>\n",
       "      <td>1</td>\n",
       "      <td>0</td>\n",
       "      <td>A/5 21171</td>\n",
       "      <td>7.2500</td>\n",
       "      <td>NaN</td>\n",
       "      <td>S</td>\n",
       "      <td>Third</td>\n",
       "      <td>man</td>\n",
       "      <td>False</td>\n",
       "    </tr>\n",
       "    <tr>\n",
       "      <th>1</th>\n",
       "      <td>2</td>\n",
       "      <td>1</td>\n",
       "      <td>1</td>\n",
       "      <td>Cumings, Mrs. John Bradley (Florence Briggs Th...</td>\n",
       "      <td>female</td>\n",
       "      <td>38.0</td>\n",
       "      <td>1</td>\n",
       "      <td>0</td>\n",
       "      <td>PC 17599</td>\n",
       "      <td>71.2833</td>\n",
       "      <td>C85</td>\n",
       "      <td>C</td>\n",
       "      <td>First</td>\n",
       "      <td>woman</td>\n",
       "      <td>False</td>\n",
       "    </tr>\n",
       "    <tr>\n",
       "      <th>2</th>\n",
       "      <td>3</td>\n",
       "      <td>1</td>\n",
       "      <td>3</td>\n",
       "      <td>Heikkinen, Miss. Laina</td>\n",
       "      <td>female</td>\n",
       "      <td>26.0</td>\n",
       "      <td>0</td>\n",
       "      <td>0</td>\n",
       "      <td>STON/O2. 3101282</td>\n",
       "      <td>7.9250</td>\n",
       "      <td>NaN</td>\n",
       "      <td>S</td>\n",
       "      <td>Third</td>\n",
       "      <td>woman</td>\n",
       "      <td>True</td>\n",
       "    </tr>\n",
       "  </tbody>\n",
       "</table>\n",
       "</div>"
      ],
      "text/plain": [
       "   PassengerId  Survived  Pclass  \\\n",
       "0            1         0       3   \n",
       "1            2         1       1   \n",
       "2            3         1       3   \n",
       "\n",
       "                                                Name     Sex   Age  SibSp  \\\n",
       "0                            Braund, Mr. Owen Harris    male  22.0      1   \n",
       "1  Cumings, Mrs. John Bradley (Florence Briggs Th...  female  38.0      1   \n",
       "2                             Heikkinen, Miss. Laina  female  26.0      0   \n",
       "\n",
       "   Parch            Ticket     Fare Cabin Embarked  class    who  alone  \n",
       "0      0         A/5 21171   7.2500   NaN        S  Third    man  False  \n",
       "1      0          PC 17599  71.2833   C85        C  First  woman  False  \n",
       "2      0  STON/O2. 3101282   7.9250   NaN        S  Third  woman   True  "
      ]
     },
     "execution_count": 31,
     "metadata": {},
     "output_type": "execute_result"
    }
   ],
   "source": [
    "dataset.head(3)"
   ]
  },
  {
   "cell_type": "code",
   "execution_count": 32,
   "id": "d8c393b7-bc51-4b35-802d-9f4bacee1cb8",
   "metadata": {},
   "outputs": [
    {
     "data": {
      "text/plain": [
       "169.05239993721085"
      ]
     },
     "execution_count": 32,
     "metadata": {},
     "output_type": "execute_result"
    }
   ],
   "source": [
    "dataset['Age'].var()"
   ]
  },
  {
   "cell_type": "code",
   "execution_count": 33,
   "id": "b54c7014-20a9-48da-8a71-2be6a1beb9f0",
   "metadata": {},
   "outputs": [
    {
     "data": {
      "text/plain": [
       "13.002015226002884"
      ]
     },
     "execution_count": 33,
     "metadata": {},
     "output_type": "execute_result"
    }
   ],
   "source": [
    "dataset['Age'].std()"
   ]
  },
  {
   "cell_type": "code",
   "execution_count": 34,
   "id": "89848f8b-67e1-4b2a-b573-84fc7a606b17",
   "metadata": {},
   "outputs": [
    {
     "data": {
      "text/html": [
       "<div>\n",
       "<style scoped>\n",
       "    .dataframe tbody tr th:only-of-type {\n",
       "        vertical-align: middle;\n",
       "    }\n",
       "\n",
       "    .dataframe tbody tr th {\n",
       "        vertical-align: top;\n",
       "    }\n",
       "\n",
       "    .dataframe thead th {\n",
       "        text-align: right;\n",
       "    }\n",
       "</style>\n",
       "<table border=\"1\" class=\"dataframe\">\n",
       "  <thead>\n",
       "    <tr style=\"text-align: right;\">\n",
       "      <th></th>\n",
       "      <th>PassengerId</th>\n",
       "      <th>Survived</th>\n",
       "      <th>Pclass</th>\n",
       "      <th>Age</th>\n",
       "      <th>SibSp</th>\n",
       "      <th>Parch</th>\n",
       "      <th>Fare</th>\n",
       "    </tr>\n",
       "  </thead>\n",
       "  <tbody>\n",
       "    <tr>\n",
       "      <th>count</th>\n",
       "      <td>891.000000</td>\n",
       "      <td>891.000000</td>\n",
       "      <td>891.000000</td>\n",
       "      <td>891.000000</td>\n",
       "      <td>891.000000</td>\n",
       "      <td>891.000000</td>\n",
       "      <td>891.000000</td>\n",
       "    </tr>\n",
       "    <tr>\n",
       "      <th>mean</th>\n",
       "      <td>446.000000</td>\n",
       "      <td>0.383838</td>\n",
       "      <td>2.308642</td>\n",
       "      <td>29.699118</td>\n",
       "      <td>0.523008</td>\n",
       "      <td>0.381594</td>\n",
       "      <td>32.204208</td>\n",
       "    </tr>\n",
       "    <tr>\n",
       "      <th>std</th>\n",
       "      <td>257.353842</td>\n",
       "      <td>0.486592</td>\n",
       "      <td>0.836071</td>\n",
       "      <td>13.002015</td>\n",
       "      <td>1.102743</td>\n",
       "      <td>0.806057</td>\n",
       "      <td>49.693429</td>\n",
       "    </tr>\n",
       "    <tr>\n",
       "      <th>min</th>\n",
       "      <td>1.000000</td>\n",
       "      <td>0.000000</td>\n",
       "      <td>1.000000</td>\n",
       "      <td>0.420000</td>\n",
       "      <td>0.000000</td>\n",
       "      <td>0.000000</td>\n",
       "      <td>0.000000</td>\n",
       "    </tr>\n",
       "    <tr>\n",
       "      <th>25%</th>\n",
       "      <td>223.500000</td>\n",
       "      <td>0.000000</td>\n",
       "      <td>2.000000</td>\n",
       "      <td>22.000000</td>\n",
       "      <td>0.000000</td>\n",
       "      <td>0.000000</td>\n",
       "      <td>7.910400</td>\n",
       "    </tr>\n",
       "    <tr>\n",
       "      <th>50%</th>\n",
       "      <td>446.000000</td>\n",
       "      <td>0.000000</td>\n",
       "      <td>3.000000</td>\n",
       "      <td>29.699118</td>\n",
       "      <td>0.000000</td>\n",
       "      <td>0.000000</td>\n",
       "      <td>14.454200</td>\n",
       "    </tr>\n",
       "    <tr>\n",
       "      <th>75%</th>\n",
       "      <td>668.500000</td>\n",
       "      <td>1.000000</td>\n",
       "      <td>3.000000</td>\n",
       "      <td>35.000000</td>\n",
       "      <td>1.000000</td>\n",
       "      <td>0.000000</td>\n",
       "      <td>31.000000</td>\n",
       "    </tr>\n",
       "    <tr>\n",
       "      <th>max</th>\n",
       "      <td>891.000000</td>\n",
       "      <td>1.000000</td>\n",
       "      <td>3.000000</td>\n",
       "      <td>80.000000</td>\n",
       "      <td>8.000000</td>\n",
       "      <td>6.000000</td>\n",
       "      <td>512.329200</td>\n",
       "    </tr>\n",
       "  </tbody>\n",
       "</table>\n",
       "</div>"
      ],
      "text/plain": [
       "       PassengerId    Survived      Pclass         Age       SibSp  \\\n",
       "count   891.000000  891.000000  891.000000  891.000000  891.000000   \n",
       "mean    446.000000    0.383838    2.308642   29.699118    0.523008   \n",
       "std     257.353842    0.486592    0.836071   13.002015    1.102743   \n",
       "min       1.000000    0.000000    1.000000    0.420000    0.000000   \n",
       "25%     223.500000    0.000000    2.000000   22.000000    0.000000   \n",
       "50%     446.000000    0.000000    3.000000   29.699118    0.000000   \n",
       "75%     668.500000    1.000000    3.000000   35.000000    1.000000   \n",
       "max     891.000000    1.000000    3.000000   80.000000    8.000000   \n",
       "\n",
       "            Parch        Fare  \n",
       "count  891.000000  891.000000  \n",
       "mean     0.381594   32.204208  \n",
       "std      0.806057   49.693429  \n",
       "min      0.000000    0.000000  \n",
       "25%      0.000000    7.910400  \n",
       "50%      0.000000   14.454200  \n",
       "75%      0.000000   31.000000  \n",
       "max      6.000000  512.329200  "
      ]
     },
     "execution_count": 34,
     "metadata": {},
     "output_type": "execute_result"
    }
   ],
   "source": [
    "dataset.describe() ## describe of numerical columns"
   ]
  },
  {
   "cell_type": "code",
   "execution_count": 35,
   "id": "b2dcfa79-15f1-4193-9645-f119fca82ac1",
   "metadata": {},
   "outputs": [
    {
     "data": {
      "image/png": "[encoded data removed]",
      "text/plain": [
       "<Figure size 640x480 with 1 Axes>"
      ]
     },
     "metadata": {},
     "output_type": "display_data"
    }
   ],
   "source": [
    "sns.histplot(x= \"Age\", data=dataset)\n",
    "plt.show()"
   ]
  },
  {
   "cell_type": "markdown",
   "id": "b39a9df0-346b-4ffd-9ed4-ace4ed7aba3e",
   "metadata": {},
   "source": [
    "# Percentiles And Quartile\n",
    "\n"
   ]
  },
  {
   "cell_type": "code",
   "execution_count": 36,
   "id": "bb5c8749-fc3f-48fc-b092-c470a73e7dbe",
   "metadata": {},
   "outputs": [
    {
     "name": "stdout",
     "output_type": "stream",
     "text": [
      "MIN: 0.42\n",
      "25%: 22.0\n",
      "75%: 35.0\n",
      "MAX: 80.0\n"
     ]
    }
   ],
   "source": [
    "print(\"MIN:\",np.min(dataset[\"Age\"]))\n",
    "print(\"25%:\",np.percentile(dataset[\"Age\"],25))  \n",
    "print(\"75%:\",np.percentile(dataset[\"Age\"],75))\n",
    "print(\"MAX:\",np.max(dataset[\"Age\"]))"
   ]
  },
  {
   "cell_type": "markdown",
   "id": "01eb8eb9-d2a9-4cd9-86b0-02b96b85c18d",
   "metadata": {},
   "source": [
    "See Above, there is huge difference between 75% and Max,,,so the outliers present between 35 and 80 only"
   ]
  },
  {
   "cell_type": "markdown",
   "id": "d688f079-cec7-4551-908c-cd7de2581a3f",
   "metadata": {},
   "source": [
    "## Box Plot"
   ]
  },
  {
   "cell_type": "code",
   "execution_count": 37,
   "id": "99ab0832-3ccb-44f6-a292-34307ccb6d99",
   "metadata": {},
   "outputs": [
    {
     "data": {
      "image/png": "[encoded data removed]",
      "text/plain": [
       "<Figure size 640x480 with 1 Axes>"
      ]
     },
     "metadata": {},
     "output_type": "display_data"
    }
   ],
   "source": [
    "sns.boxplot(x = \"Age\", data = dataset)\n",
    "plt.show()"
   ]
  },
  {
   "cell_type": "code",
   "execution_count": 38,
   "id": "3098f20e-373b-43fc-bff9-558d70179e1a",
   "metadata": {},
   "outputs": [
    {
     "name": "stdout",
     "output_type": "stream",
     "text": [
      "MIN: 0.0\n",
      "25%: 7.9104\n",
      "75%: 31.0\n",
      "MAX: 512.3292\n"
     ]
    }
   ],
   "source": [
    "print(\"MIN:\",np.min(dataset[\"Fare\"]))\n",
    "print(\"25%:\",np.percentile(dataset[\"Fare\"],25))  \n",
    "print(\"75%:\",np.percentile(dataset[\"Fare\"],75))\n",
    "print(\"MAX:\",np.max(dataset[\"Fare\"]))"
   ]
  },
  {
   "cell_type": "code",
   "execution_count": 39,
   "id": "f5632b2e-502d-4aa3-9026-5030f8663b67",
   "metadata": {},
   "outputs": [
    {
     "data": {
      "image/png": "[encoded data removed]",
      "text/plain": [
       "<Figure size 640x480 with 1 Axes>"
      ]
     },
     "metadata": {},
     "output_type": "display_data"
    }
   ],
   "source": [
    "sns.boxplot(x = \"Fare\", data = dataset)\n",
    "plt.show()"
   ]
  },
  {
   "cell_type": "markdown",
   "id": "3ccaee79-10b3-4383-b29f-28891deb5488",
   "metadata": {},
   "source": [
    "# Measure and Shapes"
   ]
  },
  {
   "cell_type": "markdown",
   "id": "173d4e9e-32f6-4998-8bae-69530ec71b1e",
   "metadata": {},
   "source": [
    "## Skewness\n",
    "<ul>\n",
    "    <li>Skewness refers to Data spreadness</li>\n",
    "    <li>Skewness = 0 means perfect symmetrical distribution</li>\n",
    "    <li>Skewness < 0 means negative skewness</li>\n",
    "    <li>Skewness > 0 means positive skewness</li>\n",
    "</ul>\n",
    "\n"
   ]
  },
  {
   "cell_type": "code",
   "execution_count": 40,
   "id": "2f1b6a26-d444-414c-935c-bd7133466622",
   "metadata": {},
   "outputs": [
    {
     "name": "stdout",
     "output_type": "stream",
     "text": [
      "0.4344880940129925\n"
     ]
    }
   ],
   "source": [
    "#let check the Age skewness\n",
    "print(dataset[\"Age\"].skew())"
   ]
  },
  {
   "cell_type": "markdown",
   "id": "5ded5ec0-a765-49e2-9b2c-77ab782acdb7",
   "metadata": {},
   "source": [
    "#### Positive Skew chart"
   ]
  },
  {
   "cell_type": "code",
   "execution_count": 41,
   "id": "d5192e7a-fce1-48c9-9417-afe3fb60cc37",
   "metadata": {},
   "outputs": [
    {
     "data": {
      "image/png": "[encoded data removed]",
      "text/plain": [
       "<Figure size 640x480 with 1 Axes>"
      ]
     },
     "metadata": {},
     "output_type": "display_data"
    }
   ],
   "source": [
    "sns.histplot(x = \"Age\", data = dataset)\n",
    "plt.show()"
   ]
  },
  {
   "cell_type": "code",
   "execution_count": 42,
   "id": "7a4f894c-bdd6-40c8-8bb1-85c63bb593e5",
   "metadata": {},
   "outputs": [
    {
     "name": "stdout",
     "output_type": "stream",
     "text": [
      "             x\n",
      "0   -20.567946\n",
      "1  -130.333738\n",
      "2   130.231589\n",
      "3  -160.384002\n",
      "4    37.382374\n",
      "..         ...\n",
      "95   20.745037\n",
      "96 -142.758688\n",
      "97  173.702228\n",
      "98   19.616133\n",
      "99  -53.464121\n",
      "\n",
      "[100 rows x 1 columns]\n"
     ]
    }
   ],
   "source": [
    "data = np.random.normal(0,100,100)\n",
    "df = pd.DataFrame({\"x\": data})\n",
    "print(df)"
   ]
  },
  {
   "cell_type": "code",
   "execution_count": 43,
   "id": "301302d8-b544-4760-ab5f-550abc06d1f1",
   "metadata": {},
   "outputs": [
    {
     "name": "stdout",
     "output_type": "stream",
     "text": [
      "0.055378188906472336\n"
     ]
    }
   ],
   "source": [
    "print(df[\"x\"].skew())"
   ]
  },
  {
   "cell_type": "markdown",
   "id": "1a183688-030b-4bfe-8e5c-fc4e3667b8bb",
   "metadata": {},
   "source": [
    "#### Negative Skew chart"
   ]
  },
  {
   "cell_type": "code",
   "execution_count": 44,
   "id": "da37b5ed-a169-44ef-b544-acdc28c4e507",
   "metadata": {},
   "outputs": [
    {
     "data": {
      "image/png": "[encoded data removed]",
      "text/plain": [
       "<Figure size 640x480 with 1 Axes>"
      ]
     },
     "metadata": {},
     "output_type": "display_data"
    }
   ],
   "source": [
    "sns.histplot(x = \"x\", data = df)\n",
    "plt.show()"
   ]
  },
  {
   "cell_type": "code",
   "execution_count": 45,
   "id": "02032384-a839-4ae3-a5e1-e4ef7332165e",
   "metadata": {},
   "outputs": [
    {
     "name": "stdout",
     "output_type": "stream",
     "text": [
      "     x\n",
      "0    1\n",
      "1    2\n",
      "2    2\n",
      "3    3\n",
      "4    3\n",
      "5    3\n",
      "6    4\n",
      "7    4\n",
      "8    4\n",
      "9    4\n",
      "10   5\n",
      "11   5\n",
      "12   5\n",
      "13   5\n",
      "14   5\n",
      "15   6\n",
      "16   6\n",
      "17   6\n",
      "18   6\n",
      "19   6\n",
      "20   6\n",
      "21   7\n",
      "22   7\n",
      "23   7\n",
      "24   7\n",
      "25   7\n",
      "26   8\n",
      "27   8\n",
      "28   8\n",
      "29   8\n",
      "30   9\n",
      "31   9\n",
      "32   9\n",
      "33  10\n",
      "34  10\n",
      "35  11\n"
     ]
    }
   ],
   "source": [
    "data = [1,2,2,3,3,3,4,4,4,4,5,5,5,5,5,6,6,6,6,6,6,7,7,7,7,7,8,8,8,8,9,9,9,10,10,11]\n",
    "df = pd.DataFrame({\"x\": data})\n",
    "print(df)"
   ]
  },
  {
   "cell_type": "code",
   "execution_count": 46,
   "id": "0ba228d3-8c7d-488b-9a78-554f574f5364",
   "metadata": {},
   "outputs": [
    {
     "name": "stdout",
     "output_type": "stream",
     "text": [
      "0.0\n"
     ]
    }
   ],
   "source": [
    "print(df[\"x\"].skew())"
   ]
  },
  {
   "cell_type": "markdown",
   "id": "7f8437b6-aa55-4d00-907a-3747fd3359b2",
   "metadata": {},
   "source": [
    "#### Normal Skew Chart"
   ]
  },
  {
   "cell_type": "code",
   "execution_count": 47,
   "id": "35852ab5-f71a-42fe-a807-c8da3b836da7",
   "metadata": {},
   "outputs": [
    {
     "data": {
      "image/png": "[encoded data removed]",
      "text/plain": [
       "<Figure size 640x480 with 1 Axes>"
      ]
     },
     "metadata": {},
     "output_type": "display_data"
    }
   ],
   "source": [
    "sns.histplot(x = \"x\", data = df , bins = [1,2,3,4,5,6,7,8,9,10,11,12])\n",
    "plt.show()"
   ]
  },
  {
   "cell_type": "markdown",
   "id": "5c2af534-9901-42d5-9dde-70e7aa2859db",
   "metadata": {},
   "source": [
    "# Covariance and Correlation\n"
   ]
  },
  {
   "cell_type": "code",
   "execution_count": 48,
   "id": "c8f35617-f33d-4ad3-974c-aca2913e2317",
   "metadata": {},
   "outputs": [
    {
     "data": {
      "text/html": [
       "<div>\n",
       "<style scoped>\n",
       "    .dataframe tbody tr th:only-of-type {\n",
       "        vertical-align: middle;\n",
       "    }\n",
       "\n",
       "    .dataframe tbody tr th {\n",
       "        vertical-align: top;\n",
       "    }\n",
       "\n",
       "    .dataframe thead th {\n",
       "        text-align: right;\n",
       "    }\n",
       "</style>\n",
       "<table border=\"1\" class=\"dataframe\">\n",
       "  <thead>\n",
       "    <tr style=\"text-align: right;\">\n",
       "      <th></th>\n",
       "      <th>total_bill</th>\n",
       "      <th>tip</th>\n",
       "      <th>sex</th>\n",
       "      <th>smoker</th>\n",
       "      <th>day</th>\n",
       "      <th>time</th>\n",
       "      <th>size</th>\n",
       "    </tr>\n",
       "  </thead>\n",
       "  <tbody>\n",
       "    <tr>\n",
       "      <th>0</th>\n",
       "      <td>16.99</td>\n",
       "      <td>1.01</td>\n",
       "      <td>Female</td>\n",
       "      <td>No</td>\n",
       "      <td>Sun</td>\n",
       "      <td>Dinner</td>\n",
       "      <td>2</td>\n",
       "    </tr>\n",
       "    <tr>\n",
       "      <th>1</th>\n",
       "      <td>10.34</td>\n",
       "      <td>1.66</td>\n",
       "      <td>Male</td>\n",
       "      <td>No</td>\n",
       "      <td>Sun</td>\n",
       "      <td>Dinner</td>\n",
       "      <td>3</td>\n",
       "    </tr>\n",
       "    <tr>\n",
       "      <th>2</th>\n",
       "      <td>21.01</td>\n",
       "      <td>3.50</td>\n",
       "      <td>Male</td>\n",
       "      <td>No</td>\n",
       "      <td>Sun</td>\n",
       "      <td>Dinner</td>\n",
       "      <td>3</td>\n",
       "    </tr>\n",
       "  </tbody>\n",
       "</table>\n",
       "</div>"
      ],
      "text/plain": [
       "   total_bill   tip     sex smoker  day    time  size\n",
       "0       16.99  1.01  Female     No  Sun  Dinner     2\n",
       "1       10.34  1.66    Male     No  Sun  Dinner     3\n",
       "2       21.01  3.50    Male     No  Sun  Dinner     3"
      ]
     },
     "execution_count": 48,
     "metadata": {},
     "output_type": "execute_result"
    }
   ],
   "source": [
    "data = pd.read_csv(\"tip.csv\")\n",
    "data.head(3)"
   ]
  },
  {
   "cell_type": "markdown",
   "id": "a232ff26-1850-4b84-9ffe-ab85525b38f5",
   "metadata": {},
   "source": [
    "Correlation always calculated on numerical values"
   ]
  },
  {
   "cell_type": "code",
   "execution_count": 49,
   "id": "215401f3-15ca-4ac1-8bea-a9cd025e35cd",
   "metadata": {},
   "outputs": [
    {
     "data": {
      "text/plain": [
       "total_bill    0\n",
       "tip           0\n",
       "sex           0\n",
       "smoker        0\n",
       "day           0\n",
       "time          0\n",
       "size          0\n",
       "dtype: int64"
      ]
     },
     "execution_count": 49,
     "metadata": {},
     "output_type": "execute_result"
    }
   ],
   "source": [
    "data.isnull().sum()"
   ]
  },
  {
   "cell_type": "code",
   "execution_count": 50,
   "id": "5a142e43-9548-408e-addf-753650d18e35",
   "metadata": {},
   "outputs": [
    {
     "name": "stdout",
     "output_type": "stream",
     "text": [
      "<class 'pandas.core.frame.DataFrame'>\n",
      "RangeIndex: 244 entries, 0 to 243\n",
      "Data columns (total 7 columns):\n",
      " #   Column      Non-Null Count  Dtype  \n",
      "---  ------      --------------  -----  \n",
      " 0   total_bill  244 non-null    float64\n",
      " 1   tip         244 non-null    float64\n",
      " 2   sex         244 non-null    object \n",
      " 3   smoker      244 non-null    object \n",
      " 4   day         244 non-null    object \n",
      " 5   time        244 non-null    object \n",
      " 6   size        244 non-null    int64  \n",
      "dtypes: float64(2), int64(1), object(4)\n",
      "memory usage: 13.5+ KB\n"
     ]
    }
   ],
   "source": [
    "data.info()"
   ]
  },
  {
   "cell_type": "markdown",
   "id": "8df7c779-0d8f-4035-9ba8-716896deb1c5",
   "metadata": {},
   "source": [
    "### To Calculate correlation"
   ]
  },
  {
   "cell_type": "code",
   "execution_count": 51,
   "id": "ac453f34-41a3-4cf1-9683-9f1a1622cb1d",
   "metadata": {},
   "outputs": [
    {
     "data": {
      "text/html": [
       "<div>\n",
       "<style scoped>\n",
       "    .dataframe tbody tr th:only-of-type {\n",
       "        vertical-align: middle;\n",
       "    }\n",
       "\n",
       "    .dataframe tbody tr th {\n",
       "        vertical-align: top;\n",
       "    }\n",
       "\n",
       "    .dataframe thead th {\n",
       "        text-align: right;\n",
       "    }\n",
       "</style>\n",
       "<table border=\"1\" class=\"dataframe\">\n",
       "  <thead>\n",
       "    <tr style=\"text-align: right;\">\n",
       "      <th></th>\n",
       "      <th>total_bill</th>\n",
       "      <th>tip</th>\n",
       "      <th>size</th>\n",
       "    </tr>\n",
       "  </thead>\n",
       "  <tbody>\n",
       "    <tr>\n",
       "      <th>total_bill</th>\n",
       "      <td>1.000000</td>\n",
       "      <td>0.675734</td>\n",
       "      <td>0.598315</td>\n",
       "    </tr>\n",
       "    <tr>\n",
       "      <th>tip</th>\n",
       "      <td>0.675734</td>\n",
       "      <td>1.000000</td>\n",
       "      <td>0.489299</td>\n",
       "    </tr>\n",
       "    <tr>\n",
       "      <th>size</th>\n",
       "      <td>0.598315</td>\n",
       "      <td>0.489299</td>\n",
       "      <td>1.000000</td>\n",
       "    </tr>\n",
       "  </tbody>\n",
       "</table>\n",
       "</div>"
      ],
      "text/plain": [
       "            total_bill       tip      size\n",
       "total_bill    1.000000  0.675734  0.598315\n",
       "tip           0.675734  1.000000  0.489299\n",
       "size          0.598315  0.489299  1.000000"
      ]
     },
     "execution_count": 51,
     "metadata": {},
     "output_type": "execute_result"
    }
   ],
   "source": [
    "corr = data.select_dtypes([\"float64\",\"int64\"]).corr()\n",
    "corr"
   ]
  },
  {
   "cell_type": "markdown",
   "id": "5d972f88-919c-4e08-9555-7b7330795c99",
   "metadata": {},
   "source": [
    "### To Calculate covariance"
   ]
  },
  {
   "cell_type": "code",
   "execution_count": 52,
   "id": "d3381a18-e37d-4adc-8215-6da11e3b5c94",
   "metadata": {},
   "outputs": [
    {
     "data": {
      "text/html": [
       "<div>\n",
       "<style scoped>\n",
       "    .dataframe tbody tr th:only-of-type {\n",
       "        vertical-align: middle;\n",
       "    }\n",
       "\n",
       "    .dataframe tbody tr th {\n",
       "        vertical-align: top;\n",
       "    }\n",
       "\n",
       "    .dataframe thead th {\n",
       "        text-align: right;\n",
       "    }\n",
       "</style>\n",
       "<table border=\"1\" class=\"dataframe\">\n",
       "  <thead>\n",
       "    <tr style=\"text-align: right;\">\n",
       "      <th></th>\n",
       "      <th>total_bill</th>\n",
       "      <th>tip</th>\n",
       "      <th>size</th>\n",
       "    </tr>\n",
       "  </thead>\n",
       "  <tbody>\n",
       "    <tr>\n",
       "      <th>total_bill</th>\n",
       "      <td>79.252939</td>\n",
       "      <td>8.323502</td>\n",
       "      <td>5.065983</td>\n",
       "    </tr>\n",
       "    <tr>\n",
       "      <th>tip</th>\n",
       "      <td>8.323502</td>\n",
       "      <td>1.914455</td>\n",
       "      <td>0.643906</td>\n",
       "    </tr>\n",
       "    <tr>\n",
       "      <th>size</th>\n",
       "      <td>5.065983</td>\n",
       "      <td>0.643906</td>\n",
       "      <td>0.904591</td>\n",
       "    </tr>\n",
       "  </tbody>\n",
       "</table>\n",
       "</div>"
      ],
      "text/plain": [
       "            total_bill       tip      size\n",
       "total_bill   79.252939  8.323502  5.065983\n",
       "tip           8.323502  1.914455  0.643906\n",
       "size          5.065983  0.643906  0.904591"
      ]
     },
     "execution_count": 52,
     "metadata": {},
     "output_type": "execute_result"
    }
   ],
   "source": [
    "cov = data.select_dtypes([\"float64\",\"int64\"]).cov()\n",
    "cov"
   ]
  },
  {
   "cell_type": "markdown",
   "id": "1f8a687f-91be-48af-9b10-b4f169fef359",
   "metadata": {},
   "source": [
    "## To represent correlation in graphical format by using Heatmap graph"
   ]
  },
  {
   "cell_type": "code",
   "execution_count": 53,
   "id": "bb6b7c8d-68af-41dd-aeaa-9191569b593c",
   "metadata": {},
   "outputs": [
    {
     "data": {
      "image/png": "[encoded data removed]",
      "text/plain": [
       "<Figure size 400x300 with 2 Axes>"
      ]
     },
     "metadata": {},
     "output_type": "display_data"
    }
   ],
   "source": [
    "plt.figure(figsize = (4,3))\n",
    "sns.heatmap(corr, annot = True)\n",
    "plt.show()"
   ]
  },
  {
   "cell_type": "markdown",
   "id": "830f38c0-96a1-4340-ba7e-b5d10e302745",
   "metadata": {},
   "source": [
    "## To represent covariance in graphical format by using Heatmap graph"
   ]
  },
  {
   "cell_type": "code",
   "execution_count": 54,
   "id": "377c4f33-b3cf-4004-99ff-d7b7cfbabb5f",
   "metadata": {},
   "outputs": [
    {
     "data": {
      "image/png": "[encoded data removed]",
      "text/plain": [
       "<Figure size 400x300 with 2 Axes>"
      ]
     },
     "metadata": {},
     "output_type": "display_data"
    }
   ],
   "source": [
    "plt.figure(figsize = (4,3))\n",
    "sns.heatmap(cov, annot = True)\n",
    "plt.show()"
   ]
  },
  {
   "cell_type": "markdown",
   "id": "9e5eab8e-5c5f-41fb-9773-f53d694763f1",
   "metadata": {},
   "source": [
    "# Central Limit Theorem"
   ]
  },
  {
   "cell_type": "code",
   "execution_count": 55,
   "id": "18df8afa-e908-4230-8297-56a90d182c59",
   "metadata": {},
   "outputs": [
    {
     "data": {
      "text/plain": [
       "10000"
      ]
     },
     "execution_count": 55,
     "metadata": {},
     "output_type": "execute_result"
    }
   ],
   "source": [
    "pop_data = [np.random.randint(10,100) for i in range(10000)] # generate no. between 10 to 100 about 10000 times \n",
    "len(pop_data) # population data"
   ]
  },
  {
   "cell_type": "code",
   "execution_count": 56,
   "id": "3ad3e572-b3f0-45d1-a5f7-d612d6531a35",
   "metadata": {},
   "outputs": [
    {
     "name": "stdout",
     "output_type": "stream",
     "text": [
      "      Pop_data\n",
      "0           86\n",
      "1           94\n",
      "2           82\n",
      "3           69\n",
      "4           59\n",
      "...        ...\n",
      "9995        18\n",
      "9996        46\n",
      "9997        50\n",
      "9998        77\n",
      "9999        90\n",
      "\n",
      "[10000 rows x 1 columns]\n"
     ]
    }
   ],
   "source": [
    "pop_table = pd.DataFrame({\"Pop_data\": pop_data})\n",
    "print(pop_table)"
   ]
  },
  {
   "cell_type": "markdown",
   "id": "228ec1f2-87f5-4a05-a69a-ebde05486e14",
   "metadata": {},
   "source": [
    "## Graphical representation of pop_data Before applying <u>Central Limit Theorem<u>"
   ]
  },
  {
   "cell_type": "code",
   "execution_count": 57,
   "id": "47ea1cef-48a8-4857-b2f6-c7dab917f163",
   "metadata": {},
   "outputs": [
    {
     "data": {
      "image/png": "[encoded data removed]",
      "text/plain": [
       "<Figure size 400x300 with 1 Axes>"
      ]
     },
     "metadata": {},
     "output_type": "display_data"
    }
   ],
   "source": [
    "plt.figure(figsize=(4,3))\n",
    "sns.kdeplot(x = \"Pop_data\", data = pop_table)\n",
    "plt.show()"
   ]
  },
  {
   "cell_type": "markdown",
   "id": "f467b68a-7e31-4c98-8ee0-b9876d6f8712",
   "metadata": {},
   "source": [
    "Non Normal Distribution graph"
   ]
  },
  {
   "cell_type": "markdown",
   "id": "48e5d8b6-c78d-4d14-94e2-080256f78e34",
   "metadata": {},
   "source": [
    "<hr>\n",
    "\n",
    "#### Size of Sample data must be less than 10% of the population data\n",
    "#### No. of sample data should be more than 30"
   ]
  },
  {
   "cell_type": "code",
   "execution_count": 58,
   "id": "7f7f6601-2fba-4bd9-912e-0c0f9d961afc",
   "metadata": {},
   "outputs": [],
   "source": [
    "# for i in range(5):\n",
    "#     sample_data = []\n",
    "#     for a in range(4):\n",
    "#         print(a)\n",
    "#         sample_data.append(np.random.randint(10))\n",
    "#     print(sample_data)    \n",
    "#     print(np.mean(sample_data))\n",
    "# print(sample_data)   "
   ]
  },
  {
   "cell_type": "code",
   "execution_count": 59,
   "id": "94c01989-a7de-4bc3-94ee-bc684b9f1f1c",
   "metadata": {},
   "outputs": [],
   "source": [
    "sample_mean = []\n",
    "for no_sample in range(60):  #we are taking 50 samples...\n",
    "    sample_data = []\n",
    "    for data in range (500): # we are taking data less than 10% , here 10000 is total population data and its 10% is 1000, so we take 500 which is less tha 1000....\n",
    "        sample_data.append(np.random.choice(pop_data)) # here we will choose 500 data randomly from pop_data and added to the list sample_data...\n",
    "    # print(sample_data)    \n",
    "    sample_mean.append(np.mean(sample_data)) # here we calculate mean of sample_data 50 times and added to the list sample_mean...    \n",
    "# print(sample_mean)        "
   ]
  },
  {
   "cell_type": "code",
   "execution_count": 60,
   "id": "f1b87b23-cc7e-4ae9-bb88-3eff25caa30e",
   "metadata": {},
   "outputs": [],
   "source": [
    "sample_mean_df = pd.DataFrame({\"Sample Mean\" : sample_mean})\n",
    "# print(sample_mean_df)\n"
   ]
  },
  {
   "cell_type": "markdown",
   "id": "e5acc664-cca5-4fd5-b099-75cdbfbeb1b1",
   "metadata": {},
   "source": [
    "## Graphical representation of pop_data After applying <u>Central Limit Theorem<u>"
   ]
  },
  {
   "cell_type": "code",
   "execution_count": 61,
   "id": "06f8691f-d571-4284-b906-077af6682d16",
   "metadata": {},
   "outputs": [
    {
     "data": {
      "image/png": "[encoded data removed]",
      "text/plain": [
       "<Figure size 400x300 with 1 Axes>"
      ]
     },
     "metadata": {},
     "output_type": "display_data"
    }
   ],
   "source": [
    "plt.figure(figsize=(4,3))\n",
    "sns.kdeplot(x = \"Sample Mean\", data = sample_mean_df)\n",
    "plt.show()"
   ]
  },
  {
   "cell_type": "markdown",
   "id": "f8d2a676-9aca-4d24-95d1-124327e544ab",
   "metadata": {},
   "source": [
    "Normal Distribution Graph"
   ]
  },
  {
   "cell_type": "code",
   "execution_count": 62,
   "id": "8435d4ef-7667-47f9-b9ab-d84952498020",
   "metadata": {},
   "outputs": [
    {
     "data": {
      "text/plain": [
       "np.float64(54.1834)"
      ]
     },
     "execution_count": 62,
     "metadata": {},
     "output_type": "execute_result"
    }
   ],
   "source": [
    "np.mean(pop_data)"
   ]
  },
  {
   "cell_type": "code",
   "execution_count": 63,
   "id": "810d79af-fe85-4671-8846-21ce0485a65a",
   "metadata": {},
   "outputs": [
    {
     "data": {
      "text/plain": [
       "np.float64(54.216233333333335)"
      ]
     },
     "execution_count": 63,
     "metadata": {},
     "output_type": "execute_result"
    }
   ],
   "source": [
    "np.mean(sample_mean)"
   ]
  },
  {
   "cell_type": "markdown",
   "id": "8ea3a2a3-e26f-4be5-a83b-976eabb5d80f",
   "metadata": {},
   "source": [
    "# Hypthesis Testing"
   ]
  },
  {
   "cell_type": "markdown",
   "id": "302a35d2-14dc-41f7-a61e-9b489bb43dbc",
   "metadata": {},
   "source": [
    "## Z Test"
   ]
  },
  {
   "cell_type": "code",
   "execution_count": 64,
   "id": "6edb210e-f179-4070-8df3-48cc55d5e384",
   "metadata": {},
   "outputs": [],
   "source": [
    "import scipy.stats as st "
   ]
  },
  {
   "cell_type": "markdown",
   "id": "963465a4-f74b-441d-b645-555aef4e7921",
   "metadata": {},
   "source": [
    "### example 1"
   ]
  },
  {
   "cell_type": "code",
   "execution_count": 65,
   "id": "bea0a971-6bb2-4250-937d-29303f6e380b",
   "metadata": {},
   "outputs": [],
   "source": [
    "SM = 90 # SAMPLE MEAN\n",
    "PM = 82 # POPULATION MEAN\n",
    "P_STD = 20 # STANDARD DEVIATION OF POPULATION\n",
    "n = 81 # no. of sample\n",
    "alpha = 0.05\n"
   ]
  },
  {
   "cell_type": "code",
   "execution_count": 66,
   "id": "1793453e-331d-41f7-b0be-5d1c79f9ee03",
   "metadata": {},
   "outputs": [
    {
     "data": {
      "text/plain": [
       "np.float64(3.5999999999999996)"
      ]
     },
     "execution_count": 66,
     "metadata": {},
     "output_type": "execute_result"
    }
   ],
   "source": [
    "z_cal = (SM - PM)/(20/np.sqrt(81))\n",
    "z_cal"
   ]
  },
  {
   "cell_type": "code",
   "execution_count": 67,
   "id": "2bc91d30-9ec9-43e6-b21e-801c0a5e9322",
   "metadata": {},
   "outputs": [
    {
     "data": {
      "text/plain": [
       "np.float64(1.6448536269514722)"
      ]
     },
     "execution_count": 67,
     "metadata": {},
     "output_type": "execute_result"
    }
   ],
   "source": [
    "z_table = st.norm.ppf(1 - alpha) \n",
    "z_table"
   ]
  },
  {
   "cell_type": "code",
   "execution_count": 68,
   "id": "eddc4432-1fe5-458e-9cd5-f4b5326e37c9",
   "metadata": {},
   "outputs": [
    {
     "name": "stdout",
     "output_type": "stream",
     "text": [
      "H1 is right\n"
     ]
    }
   ],
   "source": [
    "if z_table < z_cal:\n",
    "    print(\"H1 is right\")\n",
    "else:\n",
    "    print(\"Ho is right\")"
   ]
  },
  {
   "cell_type": "markdown",
   "id": "4106f108-759b-4d3b-9fc0-f02c45a6ac84",
   "metadata": {},
   "source": [
    "### example 2"
   ]
  },
  {
   "cell_type": "code",
   "execution_count": 69,
   "id": "d98a4905-318a-45ee-99c3-600f4eab5218",
   "metadata": {},
   "outputs": [],
   "source": [
    "old_design_data = np.array([45.2, 42.8, 38.9,43.5, 41.0, 44.6])\n",
    "new_design_data = np.array([48.5, 49.1, 50.2,47.8, 48.7, 49.9])"
   ]
  },
  {
   "cell_type": "code",
   "execution_count": 70,
   "id": "febe45f5-0761-4ab1-beb0-fff82375149e",
   "metadata": {},
   "outputs": [],
   "source": [
    "pop_std = 2.5\n",
    "n_sp = len(new_design_data)\n",
    "alpha = 0.05\n"
   ]
  },
  {
   "cell_type": "code",
   "execution_count": 71,
   "id": "2d0f9f09-a51a-4788-bf15-cc2695765917",
   "metadata": {},
   "outputs": [],
   "source": [
    "mean_new = np.mean(new_design_data)\n",
    "mean_old = np.mean(old_design_data)"
   ]
  },
  {
   "cell_type": "code",
   "execution_count": 72,
   "id": "d74e6a39-4252-43b3-ac19-70043bcf1e62",
   "metadata": {},
   "outputs": [
    {
     "data": {
      "text/plain": [
       "np.float64(6.238033878287827)"
      ]
     },
     "execution_count": 72,
     "metadata": {},
     "output_type": "execute_result"
    }
   ],
   "source": [
    "z_cal = (mean_new - mean_old)/(pop_std/np.sqrt(n_sp))\n",
    "z_cal"
   ]
  },
  {
   "cell_type": "code",
   "execution_count": 73,
   "id": "2724a4cc-958f-4cbc-be44-8ddcdd493043",
   "metadata": {},
   "outputs": [
    {
     "data": {
      "text/plain": [
       "np.float64(1.6448536269514722)"
      ]
     },
     "execution_count": 73,
     "metadata": {},
     "output_type": "execute_result"
    }
   ],
   "source": [
    "z_table\n"
   ]
  },
  {
   "cell_type": "code",
   "execution_count": 74,
   "id": "a2ec34d4-7366-4de0-a262-b114200d81e3",
   "metadata": {},
   "outputs": [
    {
     "name": "stdout",
     "output_type": "stream",
     "text": [
      "H1 or Ha is right\n"
     ]
    }
   ],
   "source": [
    "if z_table < z_cal:\n",
    "    print(\"H1 or Ha is right\")\n",
    "else:\n",
    "    print(\"Ho is right\")"
   ]
  },
  {
   "cell_type": "markdown",
   "id": "0e435111-0f9d-438c-82db-d9c176bb7cd3",
   "metadata": {},
   "source": [
    "## T Test"
   ]
  },
  {
   "cell_type": "markdown",
   "id": "fbcc7479-7f53-4af1-957f-70d0af24a38f",
   "metadata": {},
   "source": [
    "### example 1"
   ]
  },
  {
   "cell_type": "code",
   "execution_count": 75,
   "id": "e3660f7c-91d7-4558-af96-32acef76adea",
   "metadata": {},
   "outputs": [
    {
     "data": {
      "text/plain": [
       "np.float64(-1.7108820799094282)"
      ]
     },
     "execution_count": 75,
     "metadata": {},
     "output_type": "execute_result"
    }
   ],
   "source": [
    "t_table = st.t.ppf(0.05, 24)\n",
    "t_table"
   ]
  },
  {
   "cell_type": "markdown",
   "id": "d56e326a-9569-4988-86fe-75e85c2a837b",
   "metadata": {},
   "source": [
    "# Chi Square Test"
   ]
  },
  {
   "cell_type": "markdown",
   "id": "b350d953-5a5f-41fd-a26b-eea315ab2068",
   "metadata": {},
   "source": [
    "### example 1"
   ]
  },
  {
   "cell_type": "code",
   "execution_count": 79,
   "id": "75810312-e382-4ec7-9823-72ac93bef8f7",
   "metadata": {},
   "outputs": [],
   "source": [
    "ob = np.array([22,17,20,26,22,13]) # observed value\n",
    "ex = np.array([20,20,20,20,20,20]) # expected value"
   ]
  },
  {
   "cell_type": "code",
   "execution_count": 80,
   "id": "e7dce90e-75d9-4376-94f2-38bb89dda860",
   "metadata": {},
   "outputs": [
    {
     "data": {
      "text/plain": [
       "np.float64(5.1000000000000005)"
      ]
     },
     "execution_count": 80,
     "metadata": {},
     "output_type": "execute_result"
    }
   ],
   "source": [
    "chi_square_value = np.sum(np.square(ob-ex)/ex)\n",
    "chi_square_value"
   ]
  },
  {
   "cell_type": "markdown",
   "id": "dd6118e0-9a57-46f6-86dd-86ad7bd3b781",
   "metadata": {},
   "source": [
    "### example 2"
   ]
  },
  {
   "cell_type": "code",
   "execution_count": 81,
   "id": "96b5ab90-1184-494b-979a-952a4cf4f199",
   "metadata": {},
   "outputs": [],
   "source": [
    "row1 = np.array([40,45,25,10])\n",
    "row2 = np.array([35,30,20,30])"
   ]
  },
  {
   "cell_type": "code",
   "execution_count": 85,
   "id": "c29c991c-f208-4211-bc96-a9eed8845b9b",
   "metadata": {},
   "outputs": [
    {
     "data": {
      "text/plain": [
       "array([120, 115])"
      ]
     },
     "execution_count": 85,
     "metadata": {},
     "output_type": "execute_result"
    }
   ],
   "source": [
    "sum_r1 = np.sum(row1)\n",
    "sum_r2 = np.sum(row2)\n",
    "sum_row = np.array([sum_r1, sum_r2])\n",
    "sum_row"
   ]
  },
  {
   "cell_type": "code",
   "execution_count": 84,
   "id": "6d0dc1c0-8b29-45b0-8d0c-93d1e5c04e47",
   "metadata": {},
   "outputs": [
    {
     "data": {
      "text/plain": [
       "array([75, 75, 45, 40])"
      ]
     },
     "execution_count": 84,
     "metadata": {},
     "output_type": "execute_result"
    }
   ],
   "source": [
    "sum_col = row1 + row2\n",
    "sum_col"
   ]
  },
  {
   "cell_type": "code",
   "execution_count": 88,
   "id": "9ceff9f2-beb3-45fb-a70f-dc39f2ecbcb1",
   "metadata": {},
   "outputs": [],
   "source": [
    "obs = np.array([40,45,25,10,35,30,20,30])\n"
   ]
  },
  {
   "cell_type": "code",
   "execution_count": 87,
   "id": "56d42d3b-243b-4078-b973-31f315c37454",
   "metadata": {},
   "outputs": [],
   "source": [
    "exp = []\n",
    "for i in sum_row:\n",
    "    for j in sum_col:\n",
    "        value = (i*j)/235\n",
    "        exp.append(value)"
   ]
  },
  {
   "cell_type": "code",
   "execution_count": 89,
   "id": "4a2e5467-e51a-4302-8494-94040497c6a2",
   "metadata": {},
   "outputs": [
    {
     "data": {
      "text/plain": [
       "np.float64(13.788747987117553)"
      ]
     },
     "execution_count": 89,
     "metadata": {},
     "output_type": "execute_result"
    }
   ],
   "source": [
    "chi_sqr_val = np.sum(np.square(obs-exp)/exp)\n",
    "chi_sqr_val"
   ]
  },
  {
   "cell_type": "code",
   "execution_count": null,
   "id": "c954534d-271f-42d2-bdba-ef1546c85747",
   "metadata": {},
   "outputs": [],
   "source": []
  }
 ],
 "metadata": {
  "kernelspec": {
   "display_name": "Python 3 (ipykernel)",
   "language": "python",
   "name": "python3"
  },
  "language_info": {
   "codemirror_mode": {
    "name": "ipython",
    "version": 3
   },
   "file_extension": ".py",
   "mimetype": "text/x-python",
   "name": "python",
   "nbconvert_exporter": "python",
   "pygments_lexer": "ipython3",
   "version": "3.13.5"
  },
  "widgets": {
   "application/vnd.jupyter.widget-state+json": {
    "state": {},
    "version_major": 2,
    "version_minor": 0
   }
  }
 },
 "nbformat": 4,
 "nbformat_minor": 5
}
